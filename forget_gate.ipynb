{
 "cells": [
  {
   "cell_type": "code",
   "execution_count": 5,
   "id": "22ddf372",
   "metadata": {},
   "outputs": [],
   "source": [
    "import pandas as pd\n",
    "import pickle as pk\n",
    "from tqdm import tqdm\n",
    "import torch\n",
    "import torch.nn as nn\n",
    "import dictionary_corpus\n",
    "from dictionary_corpus import Corpus\n",
    "import numpy as np\n",
    "from sklearn.decomposition import PCA, SparsePCA, KernelPCA, IncrementalPCA\n",
    "from collections import defaultdict\n",
    "import matplotlib.pyplot as plt\n",
    "import matplotlib\n",
    "import seaborn as sns\n",
    "import os\n",
    "\n",
    "pd.set_option('display.max_rows', 30)\n",
    "pd.set_option('display.max_columns', 30)\n",
    "\n",
    "matplotlib.use('webagg')\n",
    "# load the model and the corpus\n",
    "model = torch.load('hidden650_batch128_dropout0.2_lr20.0.pt',map_location=torch.device('cpu'))\n",
    "corpus = Corpus('')\n",
    "# print(\"Vocab size %d\", ntokens)"
   ]
  },
  {
   "cell_type": "code",
   "execution_count": 6,
   "id": "a77adf65",
   "metadata": {},
   "outputs": [],
   "source": [
    "# rnn = nn.LSTM(7, 650,5)\n",
    "# input = torch.randn(44,1,7)\n",
    "# h0 = torch.randn(5,1, 650)\n",
    "# c0 = torch.randn(5,1, 650)\n",
    "# output, (hn, cn) = rnn(input, (h0, c0))"
   ]
  },
  {
   "cell_type": "code",
   "execution_count": 7,
   "id": "a5abe5da",
   "metadata": {},
   "outputs": [
    {
     "name": "stdout",
     "output_type": "stream",
     "text": [
      "torch.Size([50001, 650])\n",
      "torch.Size([2600, 650])\n",
      "torch.Size([2600, 650])\n",
      "torch.Size([2600])\n",
      "torch.Size([2600])\n",
      "torch.Size([2600, 650])\n",
      "torch.Size([2600, 650])\n",
      "torch.Size([2600])\n",
      "torch.Size([2600])\n",
      "torch.Size([50001, 650])\n",
      "torch.Size([50001])\n"
     ]
    }
   ],
   "source": [
    "for p in model.parameters():\n",
    "    print(p.shape)"
   ]
  },
  {
   "cell_type": "code",
   "execution_count": null,
   "id": "7230c6ef",
   "metadata": {},
   "outputs": [],
   "source": []
  }
 ],
 "metadata": {
  "kernelspec": {
   "display_name": "Python 3 (ipykernel)",
   "language": "python",
   "name": "python3"
  },
  "language_info": {
   "codemirror_mode": {
    "name": "ipython",
    "version": 3
   },
   "file_extension": ".py",
   "mimetype": "text/x-python",
   "name": "python",
   "nbconvert_exporter": "python",
   "pygments_lexer": "ipython3",
   "version": "3.7.12"
  }
 },
 "nbformat": 4,
 "nbformat_minor": 5
}
